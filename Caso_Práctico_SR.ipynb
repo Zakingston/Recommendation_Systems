{
  "nbformat": 4,
  "nbformat_minor": 0,
  "metadata": {
    "colab": {
      "provenance": []
    },
    "kernelspec": {
      "name": "python3",
      "display_name": "Python 3"
    },
    "language_info": {
      "name": "python"
    }
  },
  "cells": [
    {
      "cell_type": "code",
      "execution_count": 1,
      "metadata": {
        "colab": {
          "base_uri": "https://localhost:8080/"
        },
        "id": "8TuZSjcx_gvU",
        "outputId": "3d639ad4-76e9-4a6e-8e0a-a0844a1f737f"
      },
      "outputs": [
        {
          "output_type": "stream",
          "name": "stdout",
          "text": [
            "Collecting scikit-surprise\n",
            "  Downloading scikit-surprise-1.1.3.tar.gz (771 kB)\n",
            "\u001b[2K     \u001b[90m━━━━━━━━━━━━━━━━━━━━━━━━━━━━━━━━━━━━━━━━\u001b[0m \u001b[32m772.0/772.0 kB\u001b[0m \u001b[31m6.8 MB/s\u001b[0m eta \u001b[36m0:00:00\u001b[0m\n",
            "\u001b[?25h  Preparing metadata (setup.py) ... \u001b[?25l\u001b[?25hdone\n",
            "Requirement already satisfied: joblib>=1.0.0 in /usr/local/lib/python3.10/dist-packages (from scikit-surprise) (1.3.2)\n",
            "Requirement already satisfied: numpy>=1.17.3 in /usr/local/lib/python3.10/dist-packages (from scikit-surprise) (1.23.5)\n",
            "Requirement already satisfied: scipy>=1.3.2 in /usr/local/lib/python3.10/dist-packages (from scikit-surprise) (1.11.4)\n",
            "Building wheels for collected packages: scikit-surprise\n",
            "  Building wheel for scikit-surprise (setup.py) ... \u001b[?25l\u001b[?25hdone\n",
            "  Created wheel for scikit-surprise: filename=scikit_surprise-1.1.3-cp310-cp310-linux_x86_64.whl size=3162668 sha256=4d3b1bdc1c7b949615c53ebbe3337031fc2e3acc661de1a7a36e2a345b094227\n",
            "  Stored in directory: /root/.cache/pip/wheels/a5/ca/a8/4e28def53797fdc4363ca4af740db15a9c2f1595ebc51fb445\n",
            "Successfully built scikit-surprise\n",
            "Installing collected packages: scikit-surprise\n",
            "Successfully installed scikit-surprise-1.1.3\n"
          ]
        }
      ],
      "source": [
        "# Instalamos el paquete surprise\n",
        "pip install scikit-surprise"
      ]
    },
    {
      "cell_type": "code",
      "source": [
        "# Importamos las librerías necesarias\n",
        "import pandas as pd\n",
        "from surprise import KNNBasic, KNNWithMeans\n",
        "from surprise import Dataset\n",
        "from surprise import Reader\n",
        "from surprise import accuracy\n",
        "from surprise.model_selection import train_test_split"
      ],
      "metadata": {
        "id": "gqcVMxXFBBKG"
      },
      "execution_count": 2,
      "outputs": []
    },
    {
      "cell_type": "code",
      "source": [
        "# Procedemos a la lectura de los datos\n",
        "reader = Reader(line_format=\"user item rating timestamp\", sep=\"::\")\n",
        "data = Dataset.load_from_file(\"/content/ratings.dat\",reader=reader)"
      ],
      "metadata": {
        "id": "6-CP-HT_BJWw"
      },
      "execution_count": 11,
      "outputs": []
    },
    {
      "cell_type": "code",
      "source": [
        "# Dividimos los datos en train y test\n",
        "train, test = train_test_split(data, test_size=0.3)"
      ],
      "metadata": {
        "id": "77zFqibADPca"
      },
      "execution_count": 12,
      "outputs": []
    },
    {
      "cell_type": "code",
      "source": [
        "# Algoritmos (KNN)\n",
        "knn = KNNBasic(k=50, sim_options={\"name\": \"pearson\", \"user_based\": True})\n",
        "kMeans = KNNWithMeans(k=50, sim_options={\"name\": \"cosine\",\"user_based\": False})"
      ],
      "metadata": {
        "id": "winKs4WLDUCw"
      },
      "execution_count": 14,
      "outputs": []
    },
    {
      "cell_type": "code",
      "source": [
        "# Entrenamos el modelo\n",
        "knn.fit(train)\n",
        "kMeans.fit(train)"
      ],
      "metadata": {
        "colab": {
          "base_uri": "https://localhost:8080/"
        },
        "id": "Th1XLyfEDlbs",
        "outputId": "e78c49b4-0fca-44a2-d715-416912745c39"
      },
      "execution_count": 15,
      "outputs": [
        {
          "output_type": "stream",
          "name": "stdout",
          "text": [
            "Computing the pearson similarity matrix...\n",
            "Done computing similarity matrix.\n",
            "Computing the cosine similarity matrix...\n",
            "Done computing similarity matrix.\n"
          ]
        },
        {
          "output_type": "execute_result",
          "data": {
            "text/plain": [
              "<surprise.prediction_algorithms.knns.KNNWithMeans at 0x7be57644ff40>"
            ]
          },
          "metadata": {},
          "execution_count": 15
        }
      ]
    },
    {
      "cell_type": "code",
      "source": [
        "# Ejemplo a mano\n",
        "user_id = 42\n",
        "item_id = 7\n",
        "knn_user_prediction = knn.predict(user_id, item_id)\n",
        "kMeans_user_prediction = kMeans.predict(user_id, item_id)"
      ],
      "metadata": {
        "id": "ZvAqCAGJELdn"
      },
      "execution_count": 16,
      "outputs": []
    },
    {
      "cell_type": "code",
      "source": [
        "# RMSE como métrica\n",
        "knn_test_predictions = knn.test(test)\n",
        "kMeans_test_predictions = kMeans.test(test)\n",
        "knn_rmse = accuracy.rmse(knn_test_predictions)\n",
        "kMeans_rmse = accuracy.rmse(kMeans_test_predictions)"
      ],
      "metadata": {
        "colab": {
          "base_uri": "https://localhost:8080/"
        },
        "id": "INfBd7s6Emao",
        "outputId": "ea022975-29cd-4760-a22b-09cdc987b2dc"
      },
      "execution_count": 19,
      "outputs": [
        {
          "output_type": "stream",
          "name": "stdout",
          "text": [
            "RMSE: 0.9636\n",
            "RMSE: 0.8973\n"
          ]
        }
      ]
    },
    {
      "cell_type": "markdown",
      "source": [
        "# Conclusión\n",
        "En este proyecto hemos creado dos modelos paralelamente, KNN básico con Similitud de Pearson y KNN con Medias con similitud de Coseno.\n",
        "Hemos introducido un ejemplo a mano y luego hemos sacado las métricas RMSE para valorar la precisión de predicción de los modelos.\n",
        "Con los resultados obtenidos, el KNN con medias tiene mejor predicción estando el valor más cerca de 0, por lo cual más cerca de los datos reales de los usuarios.\n",
        "Sería aconsejable también sacar alguna otra métrica para confirmar estos resultados."
      ],
      "metadata": {
        "id": "OrZ7eJo0Jg-F"
      }
    }
  ]
}